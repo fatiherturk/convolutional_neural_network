{
 "cells": [
  {
   "cell_type": "markdown",
   "metadata": {
    "id": "3DR-eO17geWu"
   },
   "source": [
    "# Convolutional Neural Network"
   ]
  },
  {
   "cell_type": "markdown",
   "metadata": {
    "id": "EMefrVPCg-60"
   },
   "source": [
    "### Importing the libraries"
   ]
  },
  {
   "cell_type": "code",
   "execution_count": 1,
   "metadata": {
    "id": "vTMVT0oyHlk-"
   },
   "outputs": [],
   "source": [
    "import tensorflow as tf\n",
    "from keras.preprocessing.image import ImageDataGenerator\n",
    "from tensorflow import keras"
   ]
  },
  {
   "cell_type": "code",
   "execution_count": 2,
   "metadata": {
    "colab": {
     "base_uri": "https://localhost:8080/",
     "height": 36
    },
    "id": "gwu3J4mVIDcU",
    "outputId": "fb38dc26-a913-4ea5-936e-3c36ec28de8d"
   },
   "outputs": [
    {
     "data": {
      "text/plain": [
       "'2.11.0'"
      ]
     },
     "execution_count": 2,
     "metadata": {},
     "output_type": "execute_result"
    }
   ],
   "source": [
    "tf.__version__"
   ]
  },
  {
   "cell_type": "markdown",
   "metadata": {
    "id": "oxQxCBWyoGPE"
   },
   "source": [
    "## Part 1 - Data Preprocessing"
   ]
  },
  {
   "cell_type": "markdown",
   "metadata": {
    "id": "MvE-heJNo3GG"
   },
   "source": [
    "### Preprocessing the Training set"
   ]
  },
  {
   "cell_type": "code",
   "execution_count": 3,
   "metadata": {
    "colab": {
     "base_uri": "https://localhost:8080/",
     "height": 210
    },
    "id": "K5TgSpTGIXrh",
    "outputId": "747aa32c-2d33-45fd-d612-aac03b59891f"
   },
   "outputs": [
    {
     "name": "stdout",
     "output_type": "stream",
     "text": [
      "Found 8000 images belonging to 2 classes.\n"
     ]
    }
   ],
   "source": [
    "train_datagen = ImageDataGenerator(rescale = 1./255,\n",
    "                                   shear_range = 0.2,\n",
    "                                   zoom_range = 0.2,\n",
    "                                   horizontal_flip = True)\n",
    "training_set = train_datagen.flow_from_directory('dataset/training_set',\n",
    "                                                 target_size = (64, 64),\n",
    "                                                 batch_size = 32,\n",
    "                                                 class_mode = 'binary')"
   ]
  },
  {
   "cell_type": "markdown",
   "metadata": {
    "id": "mrCMmGw9pHys"
   },
   "source": [
    "### Preprocessing the Test set"
   ]
  },
  {
   "cell_type": "code",
   "execution_count": 4,
   "metadata": {
    "colab": {
     "base_uri": "https://localhost:8080/",
     "height": 192
    },
    "id": "t4FEhEqfVuvK",
    "outputId": "c6b00502-45f9-4b84-f987-58a8150107ae"
   },
   "outputs": [
    {
     "name": "stdout",
     "output_type": "stream",
     "text": [
      "Found 2000 images belonging to 2 classes.\n"
     ]
    }
   ],
   "source": [
    "test_datagen = ImageDataGenerator(rescale = 1./255)\n",
    "test_set = test_datagen.flow_from_directory('dataset/test_set',\n",
    "                                            target_size = (64, 64),\n",
    "                                            batch_size = 32,\n",
    "                                            class_mode = 'binary')"
   ]
  },
  {
   "cell_type": "markdown",
   "metadata": {
    "id": "af8O4l90gk7B"
   },
   "source": [
    "## Part 2 - Building the CNN"
   ]
  },
  {
   "cell_type": "markdown",
   "metadata": {
    "id": "ces1gXY2lmoX"
   },
   "source": [
    "### Initialising the CNN"
   ]
  },
  {
   "cell_type": "code",
   "execution_count": 5,
   "metadata": {
    "id": "hRFspVRNXPsq"
   },
   "outputs": [],
   "source": [
    "cnn = tf.keras.models.Sequential()"
   ]
  },
  {
   "cell_type": "markdown",
   "metadata": {
    "id": "u5YJj_XMl5LF"
   },
   "source": [
    "### Step 1 - Convolution"
   ]
  },
  {
   "cell_type": "code",
   "execution_count": 6,
   "metadata": {
    "id": "783aLTsTXpqM"
   },
   "outputs": [],
   "source": [
    "cnn.add(tf.keras.layers.Conv2D(filters =32, kernel_size=3, activation= 'relu', input_shape=[64,64,3]))"
   ]
  },
  {
   "cell_type": "markdown",
   "metadata": {
    "id": "tf87FpvxmNOJ"
   },
   "source": [
    "### Step 2 - Pooling"
   ]
  },
  {
   "cell_type": "code",
   "execution_count": 7,
   "metadata": {
    "id": "-147WvchcFza"
   },
   "outputs": [],
   "source": [
    "cnn.add(tf.keras.layers.MaxPool2D(pool_size=2, strides=2))"
   ]
  },
  {
   "cell_type": "markdown",
   "metadata": {
    "id": "xaTOgD8rm4mU"
   },
   "source": [
    "### Adding a second convolutional layer"
   ]
  },
  {
   "cell_type": "code",
   "execution_count": 8,
   "metadata": {
    "id": "pZDOx1pxeCZ2"
   },
   "outputs": [],
   "source": [
    "cnn.add(tf.keras.layers.Conv2D(filters =32, kernel_size=3, activation= 'relu'))\n",
    "cnn.add(tf.keras.layers.MaxPool2D(pool_size=2, strides=2))"
   ]
  },
  {
   "cell_type": "markdown",
   "metadata": {
    "id": "tmiEuvTunKfk"
   },
   "source": [
    "### Step 3 - Flattening"
   ]
  },
  {
   "cell_type": "code",
   "execution_count": 9,
   "metadata": {
    "id": "jwpa0fp0ejdB"
   },
   "outputs": [],
   "source": [
    "cnn.add(tf.keras.layers.Flatten())"
   ]
  },
  {
   "cell_type": "markdown",
   "metadata": {
    "id": "dAoSECOm203v"
   },
   "source": [
    "### Step 4 - Full Connection"
   ]
  },
  {
   "cell_type": "code",
   "execution_count": 10,
   "metadata": {
    "id": "Pe5B5I2aexmV"
   },
   "outputs": [],
   "source": [
    "cnn.add(tf.keras.layers.Dense(units=128, activation='relu'))"
   ]
  },
  {
   "cell_type": "markdown",
   "metadata": {
    "id": "yTldFvbX28Na"
   },
   "source": [
    "### Step 5 - Output Layer"
   ]
  },
  {
   "cell_type": "code",
   "execution_count": 11,
   "metadata": {
    "id": "VkFUNMQgfTqR"
   },
   "outputs": [],
   "source": [
    "cnn.add(tf.keras.layers.Dense(units=1, activation='sigmoid'))"
   ]
  },
  {
   "cell_type": "markdown",
   "metadata": {
    "id": "D6XkI90snSDl"
   },
   "source": [
    "## Part 3 - Training the CNN"
   ]
  },
  {
   "cell_type": "markdown",
   "metadata": {
    "id": "vfrFQACEnc6i"
   },
   "source": [
    "### Compiling the CNN"
   ]
  },
  {
   "cell_type": "code",
   "execution_count": 12,
   "metadata": {
    "id": "kcVfHJcMIbZV"
   },
   "outputs": [],
   "source": [
    "cnn.compile(optimizer = 'adam', loss= 'binary_crossentropy',metrics= ['accuracy'])"
   ]
  },
  {
   "cell_type": "markdown",
   "metadata": {
    "id": "ehS-v3MIpX2h"
   },
   "source": [
    "### Training the CNN on the Training set and evaluating it on the Test set"
   ]
  },
  {
   "cell_type": "code",
   "execution_count": 13,
   "metadata": {
    "colab": {
     "base_uri": "https://localhost:8080/",
     "height": 175
    },
    "id": "NxK5xtKDMeW5",
    "outputId": "5938c296-cc64-4571-f7e9-a2f8d321007c"
   },
   "outputs": [
    {
     "name": "stdout",
     "output_type": "stream",
     "text": [
      "Epoch 1/25\n",
      "250/250 [==============================] - 40s 155ms/step - loss: 0.6791 - accuracy: 0.5701 - val_loss: 0.7113 - val_accuracy: 0.5535\n",
      "Epoch 2/25\n",
      "250/250 [==============================] - 35s 139ms/step - loss: 0.6344 - accuracy: 0.6385 - val_loss: 0.5987 - val_accuracy: 0.6895\n",
      "Epoch 3/25\n",
      "250/250 [==============================] - 34s 135ms/step - loss: 0.5849 - accuracy: 0.6855 - val_loss: 0.5359 - val_accuracy: 0.7395\n",
      "Epoch 4/25\n",
      "250/250 [==============================] - 34s 137ms/step - loss: 0.5415 - accuracy: 0.7211 - val_loss: 0.5741 - val_accuracy: 0.7150\n",
      "Epoch 5/25\n",
      "250/250 [==============================] - 34s 136ms/step - loss: 0.5090 - accuracy: 0.7506 - val_loss: 0.5066 - val_accuracy: 0.7590\n",
      "Epoch 6/25\n",
      "250/250 [==============================] - 34s 137ms/step - loss: 0.5009 - accuracy: 0.7539 - val_loss: 0.4923 - val_accuracy: 0.7645\n",
      "Epoch 7/25\n",
      "250/250 [==============================] - 34s 137ms/step - loss: 0.4699 - accuracy: 0.7781 - val_loss: 0.5783 - val_accuracy: 0.7195\n",
      "Epoch 8/25\n",
      "250/250 [==============================] - 40s 160ms/step - loss: 0.4563 - accuracy: 0.7806 - val_loss: 0.4759 - val_accuracy: 0.7725\n",
      "Epoch 9/25\n",
      "250/250 [==============================] - 40s 160ms/step - loss: 0.4406 - accuracy: 0.7889 - val_loss: 0.4721 - val_accuracy: 0.7750\n",
      "Epoch 10/25\n",
      "250/250 [==============================] - 39s 158ms/step - loss: 0.4296 - accuracy: 0.7946 - val_loss: 0.4616 - val_accuracy: 0.7810\n",
      "Epoch 11/25\n",
      "250/250 [==============================] - 38s 152ms/step - loss: 0.4049 - accuracy: 0.8101 - val_loss: 0.4484 - val_accuracy: 0.7905\n",
      "Epoch 12/25\n",
      "250/250 [==============================] - 37s 147ms/step - loss: 0.3837 - accuracy: 0.8249 - val_loss: 0.4688 - val_accuracy: 0.7810\n",
      "Epoch 13/25\n",
      "250/250 [==============================] - 39s 156ms/step - loss: 0.3666 - accuracy: 0.8339 - val_loss: 0.4611 - val_accuracy: 0.7850\n",
      "Epoch 14/25\n",
      "250/250 [==============================] - 36s 144ms/step - loss: 0.3522 - accuracy: 0.8405 - val_loss: 0.5132 - val_accuracy: 0.7770\n",
      "Epoch 15/25\n",
      "250/250 [==============================] - 38s 150ms/step - loss: 0.3308 - accuracy: 0.8570 - val_loss: 0.4554 - val_accuracy: 0.7935\n",
      "Epoch 16/25\n",
      "250/250 [==============================] - 39s 156ms/step - loss: 0.3100 - accuracy: 0.8662 - val_loss: 0.4992 - val_accuracy: 0.7760\n",
      "Epoch 17/25\n",
      "250/250 [==============================] - 37s 148ms/step - loss: 0.3097 - accuracy: 0.8673 - val_loss: 0.4745 - val_accuracy: 0.7935\n",
      "Epoch 18/25\n",
      "250/250 [==============================] - 37s 149ms/step - loss: 0.2914 - accuracy: 0.8731 - val_loss: 0.4964 - val_accuracy: 0.8025\n",
      "Epoch 19/25\n",
      "250/250 [==============================] - 35s 140ms/step - loss: 0.2756 - accuracy: 0.8817 - val_loss: 0.5881 - val_accuracy: 0.7495\n",
      "Epoch 20/25\n",
      "250/250 [==============================] - 33s 132ms/step - loss: 0.2454 - accuracy: 0.8961 - val_loss: 0.5721 - val_accuracy: 0.7900\n",
      "Epoch 21/25\n",
      "250/250 [==============================] - 33s 132ms/step - loss: 0.2355 - accuracy: 0.9036 - val_loss: 0.5229 - val_accuracy: 0.7995\n",
      "Epoch 22/25\n",
      "250/250 [==============================] - 33s 133ms/step - loss: 0.2211 - accuracy: 0.9112 - val_loss: 0.5236 - val_accuracy: 0.7955\n",
      "Epoch 23/25\n",
      "250/250 [==============================] - 33s 133ms/step - loss: 0.2106 - accuracy: 0.9151 - val_loss: 0.5553 - val_accuracy: 0.7900\n",
      "Epoch 24/25\n",
      "250/250 [==============================] - 33s 132ms/step - loss: 0.2034 - accuracy: 0.9154 - val_loss: 0.5077 - val_accuracy: 0.8050\n",
      "Epoch 25/25\n",
      "250/250 [==============================] - 36s 142ms/step - loss: 0.1839 - accuracy: 0.9245 - val_loss: 0.5465 - val_accuracy: 0.8010\n"
     ]
    },
    {
     "data": {
      "text/plain": [
       "<keras.callbacks.History at 0x276eca0f708>"
      ]
     },
     "execution_count": 13,
     "metadata": {},
     "output_type": "execute_result"
    }
   ],
   "source": [
    "cnn.fit(x = training_set, validation_data = test_set, epochs=25)"
   ]
  },
  {
   "cell_type": "markdown",
   "metadata": {
    "id": "U3PZasO0006Z"
   },
   "source": [
    "## Part 4 - Making a single prediction"
   ]
  },
  {
   "cell_type": "code",
   "execution_count": 22,
   "metadata": {
    "id": "sTfxn2b3PkD3",
    "scrolled": true
   },
   "outputs": [
    {
     "name": "stdout",
     "output_type": "stream",
     "text": [
      "1/1 [==============================] - 0s 18ms/step\n"
     ]
    }
   ],
   "source": [
    "import numpy as np\n",
    "from tensorflow.keras.utils import load_img\n",
    "test_image = load_img('dataset/single_prediction/cat_or_dog_3.jpg', target_size = (64, 64))\n",
    "test_image = np.array(test_image)\n",
    "test_image = np.expand_dims(test_image, axis = 0)\n",
    "result = cnn.predict(test_image)\n",
    "training_set.class_indices\n",
    "if result[0][0] == 1:\n",
    "  prediction = 'dog'\n",
    "else:\n",
    "  prediction = 'cat'"
   ]
  },
  {
   "cell_type": "code",
   "execution_count": 23,
   "metadata": {},
   "outputs": [
    {
     "name": "stdout",
     "output_type": "stream",
     "text": [
      "cat\n"
     ]
    }
   ],
   "source": [
    "print(prediction)"
   ]
  }
 ],
 "metadata": {
  "colab": {
   "provenance": [],
   "toc_visible": true
  },
  "kernelspec": {
   "display_name": "Python 3 (ipykernel)",
   "language": "python",
   "name": "python3"
  },
  "language_info": {
   "codemirror_mode": {
    "name": "ipython",
    "version": 3
   },
   "file_extension": ".py",
   "mimetype": "text/x-python",
   "name": "python",
   "nbconvert_exporter": "python",
   "pygments_lexer": "ipython3",
   "version": "3.7.16"
  }
 },
 "nbformat": 4,
 "nbformat_minor": 4
}
